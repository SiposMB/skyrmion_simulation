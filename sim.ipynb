{
 "cells": [
  {
   "cell_type": "markdown",
   "metadata": {},
   "source": [
    "# Szimuláció a Spirit package-el\n",
    "\n",
    "Ez a fájl egy skyrmion kezdőállapotból ($Q = 2 $ vagy $Q = 1$) végez szimulációkat a config file alalpján."
   ]
  },
  {
   "cell_type": "code",
   "execution_count": 25,
   "metadata": {},
   "outputs": [],
   "source": [
    "from spirit import state, chain, configuration, transition, simulation, io\n",
    "\n",
    "with state.State(\"input.cfg\") as p_state:\n",
    "    # Setup\n",
    "    noi = 2\n",
    "    chain.set_length(p_state, noi)\n",
    "    \n",
    "    # Kezdőállapot\n",
    "    configuration.plus_z(p_state, idx_image=0)\n",
    "    Q = 1\n",
    "    configuration.skyrmion(p_state, 1.0, phase=-90.0, idx_image=0, order=Q)\n",
    "    \n",
    "    configuration.plus_z(p_state, idx_image=noi-1)\n",
    "    \n",
    "    transition.homogeneous(p_state, 0, noi-1)\n",
    "\n",
    "    # Szimuláció\n",
    "    simulation.start(p_state, simulation.METHOD_LLG, simulation.SOLVER_VP)\n",
    "    \n",
    "    # Kimenet\n",
    "    file_path = \"out_q\" + str(Q) + \".txt\"\n",
    "    io.image_write(p_state, file_path, fileformat=3, comment='')"
   ]
  }
 ],
 "metadata": {
  "kernelspec": {
   "display_name": "Python 3",
   "language": "python",
   "name": "python3"
  },
  "language_info": {
   "codemirror_mode": {
    "name": "ipython",
    "version": 3
   },
   "file_extension": ".py",
   "mimetype": "text/x-python",
   "name": "python",
   "nbconvert_exporter": "python",
   "pygments_lexer": "ipython3",
   "version": "3.11.8"
  }
 },
 "nbformat": 4,
 "nbformat_minor": 2
}
